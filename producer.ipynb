{
 "cells": [
  {
   "cell_type": "code",
   "execution_count": 5,
   "metadata": {},
   "outputs": [],
   "source": [
    "from xgboost import XGBRegressor\n",
    "from sklearn.model_selection import GridSearchCV,KFold,cross_val_score\n",
    "from sklearn.datasets import fetch_california_housing\n",
    "import pandas as pd\n",
    "import socket\n",
    "from itertools import product\n",
    "import numpy as np\n",
    "import json\n"
   ]
  },
  {
   "cell_type": "code",
   "execution_count": 6,
   "metadata": {},
   "outputs": [],
   "source": [
    "X,y = fetch_california_housing(return_X_y=True)"
   ]
  },
  {
   "cell_type": "code",
   "execution_count": 7,
   "metadata": {},
   "outputs": [
    {
     "data": {
      "text/plain": [
       "array([4.526, 3.585, 3.521, ..., 0.923, 0.847, 0.894])"
      ]
     },
     "execution_count": 7,
     "metadata": {},
     "output_type": "execute_result"
    }
   ],
   "source": [
    "y"
   ]
  },
  {
   "cell_type": "code",
   "execution_count": 17,
   "metadata": {},
   "outputs": [
    {
     "name": "stdout",
     "output_type": "stream",
     "text": [
      "NumberOfParams = 6, ChunkSize = 6, NumberOfJobs = 1\n"
     ]
    }
   ],
   "source": [
    "params = [\n",
    "#         {\n",
    "#         'model':'xgboost',\n",
    "#         'min_child_weight': [1, 5, 10],\n",
    "#         'eval_metric':['rmse'],\n",
    "#         'gamma': [0.5, 1, 1.5, 2, 5],\n",
    "#         'subsample': [0.6, 0.8, 1.0],\n",
    "#         'colsample_bytree': [0.6, 0.8, 1.0],\n",
    "#         'max_depth': range(1, 11, 1),\n",
    "#         'n_estimators':range(50, 400, 25),\n",
    "#         },\n",
    "#         {'model':'lightgbm',\n",
    "#          'num_leaves': range(10, 110, 50),\n",
    "#          'min_child_samples':range(100, 1250, 250),\n",
    "#          'max_bin':range(3, 18, 3)\n",
    "#          'objective': ['regression'],\n",
    "#          'metric': ['rmse'],\n",
    "#           'bagging_fraction': [0.6,0.8, 1,1.2],\n",
    "#           'max_depth': range(8, 17, 2),\n",
    "#           'min_split_gain': [0.001, 0.1],\n",
    "#           'min_child_weight': [30, 40,50]\n",
    "#           },\n",
    "        {\n",
    "          'model':'catboost',\n",
    "          'depth':range(1, 4, 2),\n",
    "          'learning_rate':[0.03,0.001,0.01], \n",
    "          'iterations':[100],\n",
    "#           'l2_leaf_reg':[3,1,5,10,100],\n",
    "#           'border_count':[32,5,10,20,50,100,200],\n",
    "#           'ctr_border_count':[50,5,10,20,100,200],\n",
    "          'thread_count':[1],\n",
    "        },\n",
    "]\n",
    "\n",
    "\n",
    "\n",
    "def split_params(jobs_param,chunk):\n",
    "    li = []\n",
    "    for i,x in enumerate(jobs_param):\n",
    "        model = x.pop('model')\n",
    "        c_plane = [dict(zip(x, v)) for v in product(*x.values())]\n",
    "        for y in c_plane:\n",
    "            y.update( {\"model\":model})\n",
    "        li+=c_plane\n",
    "    split_list=np.array_split(li, chunk)\n",
    "    json_list = [json.dumps(i.tolist()) for i in split_list]\n",
    "    print(f\"NumberOfParams = {len(li)}, ChunkSize = {len(split_list[0])}, NumberOfJobs = {chunk}\")\n",
    "    return json_list\n",
    "\n",
    "split = split_params(params,1)\n"
   ]
  },
  {
   "cell_type": "code",
   "execution_count": 20,
   "metadata": {},
   "outputs": [
    {
     "name": "stdout",
     "output_type": "stream",
     "text": [
      " [x] Sent '[{\"depth\": 1, \"learning_rate\": 0.03, \"iterations\": 100, \"thread_count\": 1, \"model\": \"catboost\"}, {\"depth\": 1, \"learning_rate\": 0.001, \"iterations\": 100, \"thread_count\": 1, \"model\": \"catboost\"}, {\"depth\": 1, \"learning_rate\": 0.01, \"iterations\": 100, \"thread_count\": 1, \"model\": \"catboost\"}, {\"depth\": 3, \"learning_rate\": 0.03, \"iterations\": 100, \"thread_count\": 1, \"model\": \"catboost\"}, {\"depth\": 3, \"learning_rate\": 0.001, \"iterations\": 100, \"thread_count\": 1, \"model\": \"catboost\"}, {\"depth\": 3, \"learning_rate\": 0.01, \"iterations\": 100, \"thread_count\": 1, \"model\": \"catboost\"}]'\n"
     ]
    }
   ],
   "source": [
    "import pika\n",
    "\n",
    "connection = pika.BlockingConnection(pika.ConnectionParameters(host=\"localhost\"))\n",
    "channel = connection.channel()\n",
    "\n",
    "channel.queue_declare(queue=\"task_queue\", durable=True)\n",
    "\n",
    "for msg in split:\n",
    "    channel.basic_publish(\n",
    "        exchange=\"\",\n",
    "        routing_key=\"task_queue\",\n",
    "        body=msg,\n",
    "        properties=pika.BasicProperties(delivery_mode=2),  # make message persistent\n",
    "    )\n",
    "    print(\" [x] Sent %r\" % msg)\n",
    "\n",
    "connection.close()"
   ]
  },
  {
   "cell_type": "code",
   "execution_count": null,
   "metadata": {},
   "outputs": [],
   "source": []
  },
  {
   "cell_type": "code",
   "execution_count": null,
   "metadata": {},
   "outputs": [],
   "source": []
  },
  {
   "cell_type": "code",
   "execution_count": null,
   "metadata": {},
   "outputs": [],
   "source": []
  },
  {
   "cell_type": "code",
   "execution_count": null,
   "metadata": {},
   "outputs": [],
   "source": []
  }
 ],
 "metadata": {
  "kernelspec": {
   "display_name": "Python 3",
   "language": "python",
   "name": "python3"
  },
  "language_info": {
   "codemirror_mode": {
    "name": "ipython",
    "version": 3
   },
   "file_extension": ".py",
   "mimetype": "text/x-python",
   "name": "python",
   "nbconvert_exporter": "python",
   "pygments_lexer": "ipython3",
   "version": "3.6.1"
  }
 },
 "nbformat": 4,
 "nbformat_minor": 2
}
