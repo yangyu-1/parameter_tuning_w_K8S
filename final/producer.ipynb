{
 "cells": [
  {
   "cell_type": "code",
   "execution_count": 1,
   "metadata": {},
   "outputs": [],
   "source": [
    "import pandas as pd\n",
    "import socket\n",
    "from itertools import product\n",
    "import numpy as np\n",
    "import json\n"
   ]
  },
  {
   "cell_type": "code",
   "execution_count": 2,
   "metadata": {},
   "outputs": [
    {
     "name": "stdout",
     "output_type": "stream",
     "text": [
      "NumberOfParams = 26160, ChunkSize = 6, NumberOfJobs = 5000\n"
     ]
    }
   ],
   "source": [
    "params = [\n",
    "        {\n",
    "        'model':'xgboost',\n",
    "        'min_child_weight': [1, 5, 10],\n",
    "        'gamma': [0.5, 1, 1.5, 2, 5],\n",
    "        'subsample': [0.6, 0.8, 1.0],\n",
    "        'colsample_bytree': [0.6, 0.8, 1.0],\n",
    "        'max_depth': range(1, 11, 1),\n",
    "        'n_estimators':range(50, 400, 25),\n",
    "        },\n",
    "        {'model':'lightgbm',\n",
    "         'num_leaves': range(10, 110, 50),\n",
    "         'min_child_samples':range(100, 1250, 250),\n",
    "         'max_bin':range(3, 18, 3),\n",
    "          'bagging_fraction': [0.6,0.8, 1,1.2],\n",
    "          'max_depth': range(8, 17, 2),\n",
    "          'min_split_gain': [0.001, 0.1],\n",
    "          'min_child_weight': [30, 40,50]\n",
    "          },\n",
    "        {\n",
    "          'model':'catboost',\n",
    "          'depth':range(1, 4, 2),\n",
    "          'learning_rate':[0.03,0.001,0.01], \n",
    "          'iterations':[100],\n",
    "          'l2_leaf_reg':[3,1,5,10,100],\n",
    "          'border_count':[32,5,10,20,50,100,200],\n",
    "          'ctr_border_count':[50,5,10,20,100,200],\n",
    "          'thread_count':[1],\n",
    "        },\n",
    "]\n",
    "\n",
    "\n",
    "\n",
    "def split_params(jobs_param,chunk):\n",
    "    li = []\n",
    "    for i,x in enumerate(jobs_param):\n",
    "        model = x.pop('model')\n",
    "        c_plane = [dict(zip(x, v)) for v in product(*x.values())]\n",
    "        for y in c_plane:\n",
    "            y.update( {\"model\":model})\n",
    "        li+=c_plane\n",
    "    split_list=np.array_split(li, chunk)\n",
    "    json_list = [json.dumps(i.tolist()) for i in split_list]\n",
    "    print(f\"NumberOfParams = {len(li)}, ChunkSize = {len(split_list[0])}, NumberOfJobs = {chunk}\")\n",
    "    return json_list\n",
    "\n",
    "split = split_params(params,5000)\n"
   ]
  },
  {
   "cell_type": "code",
   "execution_count": 4,
   "metadata": {},
   "outputs": [
    {
     "data": {
      "text/plain": [
       "'[{\"min_child_weight\": 1, \"gamma\": 0.5, \"subsample\": 0.6, \"colsample_bytree\": 0.6, \"max_depth\": 1, \"n_estimators\": 50, \"model\": \"xgboost\"}, {\"min_child_weight\": 1, \"gamma\": 0.5, \"subsample\": 0.6, \"colsample_bytree\": 0.6, \"max_depth\": 1, \"n_estimators\": 75, \"model\": \"xgboost\"}, {\"min_child_weight\": 1, \"gamma\": 0.5, \"subsample\": 0.6, \"colsample_bytree\": 0.6, \"max_depth\": 1, \"n_estimators\": 100, \"model\": \"xgboost\"}, {\"min_child_weight\": 1, \"gamma\": 0.5, \"subsample\": 0.6, \"colsample_bytree\": 0.6, \"max_depth\": 1, \"n_estimators\": 125, \"model\": \"xgboost\"}, {\"min_child_weight\": 1, \"gamma\": 0.5, \"subsample\": 0.6, \"colsample_bytree\": 0.6, \"max_depth\": 1, \"n_estimators\": 150, \"model\": \"xgboost\"}, {\"min_child_weight\": 1, \"gamma\": 0.5, \"subsample\": 0.6, \"colsample_bytree\": 0.6, \"max_depth\": 1, \"n_estimators\": 175, \"model\": \"xgboost\"}]'"
      ]
     },
     "execution_count": 4,
     "metadata": {},
     "output_type": "execute_result"
    }
   ],
   "source": [
    "split[0]"
   ]
  },
  {
   "cell_type": "code",
   "execution_count": 5,
   "metadata": {},
   "outputs": [
    {
     "ename": "AMQPConnectionError",
     "evalue": "",
     "output_type": "error",
     "traceback": [
      "\u001b[0;31m---------------------------------------------------------------------------\u001b[0m",
      "\u001b[0;31mAMQPConnectionError\u001b[0m                       Traceback (most recent call last)",
      "\u001b[0;32m<ipython-input-5-cd0b596faa02>\u001b[0m in \u001b[0;36m<module>\u001b[0;34m\u001b[0m\n\u001b[1;32m      1\u001b[0m \u001b[0;32mimport\u001b[0m \u001b[0mpika\u001b[0m\u001b[0;34m\u001b[0m\u001b[0m\n\u001b[1;32m      2\u001b[0m \u001b[0;34m\u001b[0m\u001b[0m\n\u001b[0;32m----> 3\u001b[0;31m \u001b[0mconnection\u001b[0m \u001b[0;34m=\u001b[0m \u001b[0mpika\u001b[0m\u001b[0;34m.\u001b[0m\u001b[0mBlockingConnection\u001b[0m\u001b[0;34m(\u001b[0m\u001b[0mpika\u001b[0m\u001b[0;34m.\u001b[0m\u001b[0mConnectionParameters\u001b[0m\u001b[0;34m(\u001b[0m\u001b[0mhost\u001b[0m\u001b[0;34m=\u001b[0m\u001b[0;34m\"localhost\"\u001b[0m\u001b[0;34m)\u001b[0m\u001b[0;34m)\u001b[0m\u001b[0;34m\u001b[0m\u001b[0m\n\u001b[0m\u001b[1;32m      4\u001b[0m \u001b[0mchannel\u001b[0m \u001b[0;34m=\u001b[0m \u001b[0mconnection\u001b[0m\u001b[0;34m.\u001b[0m\u001b[0mchannel\u001b[0m\u001b[0;34m(\u001b[0m\u001b[0;34m)\u001b[0m\u001b[0;34m\u001b[0m\u001b[0m\n\u001b[1;32m      5\u001b[0m \u001b[0;34m\u001b[0m\u001b[0m\n",
      "\u001b[0;32m/usr/local/Cellar/python3/3.6.3/Frameworks/Python.framework/Versions/3.6/lib/python3.6/site-packages/pika/adapters/blocking_connection.py\u001b[0m in \u001b[0;36m__init__\u001b[0;34m(self, parameters, _impl_class)\u001b[0m\n\u001b[1;32m    357\u001b[0m         \u001b[0;31m# Perform connection workflow\u001b[0m\u001b[0;34m\u001b[0m\u001b[0;34m\u001b[0m\u001b[0m\n\u001b[1;32m    358\u001b[0m         \u001b[0mself\u001b[0m\u001b[0;34m.\u001b[0m\u001b[0m_impl\u001b[0m \u001b[0;34m=\u001b[0m \u001b[0;32mNone\u001b[0m  \u001b[0;31m# so that attribute is created in case below raises\u001b[0m\u001b[0;34m\u001b[0m\u001b[0m\n\u001b[0;32m--> 359\u001b[0;31m         \u001b[0mself\u001b[0m\u001b[0;34m.\u001b[0m\u001b[0m_impl\u001b[0m \u001b[0;34m=\u001b[0m \u001b[0mself\u001b[0m\u001b[0;34m.\u001b[0m\u001b[0m_create_connection\u001b[0m\u001b[0;34m(\u001b[0m\u001b[0mparameters\u001b[0m\u001b[0;34m,\u001b[0m \u001b[0m_impl_class\u001b[0m\u001b[0;34m)\u001b[0m\u001b[0;34m\u001b[0m\u001b[0m\n\u001b[0m\u001b[1;32m    360\u001b[0m         \u001b[0mself\u001b[0m\u001b[0;34m.\u001b[0m\u001b[0m_impl\u001b[0m\u001b[0;34m.\u001b[0m\u001b[0madd_on_close_callback\u001b[0m\u001b[0;34m(\u001b[0m\u001b[0mself\u001b[0m\u001b[0;34m.\u001b[0m\u001b[0m_closed_result\u001b[0m\u001b[0;34m.\u001b[0m\u001b[0mset_value_once\u001b[0m\u001b[0;34m)\u001b[0m\u001b[0;34m\u001b[0m\u001b[0m\n\u001b[1;32m    361\u001b[0m \u001b[0;34m\u001b[0m\u001b[0m\n",
      "\u001b[0;32m/usr/local/Cellar/python3/3.6.3/Frameworks/Python.framework/Versions/3.6/lib/python3.6/site-packages/pika/adapters/blocking_connection.py\u001b[0m in \u001b[0;36m_create_connection\u001b[0;34m(self, configs, impl_class)\u001b[0m\n\u001b[1;32m    448\u001b[0m                 \u001b[0merror\u001b[0m \u001b[0;34m=\u001b[0m \u001b[0mon_cw_done_result\u001b[0m\u001b[0;34m.\u001b[0m\u001b[0mvalue\u001b[0m\u001b[0;34m.\u001b[0m\u001b[0mresult\u001b[0m\u001b[0;34m\u001b[0m\u001b[0m\n\u001b[1;32m    449\u001b[0m                 \u001b[0mLOGGER\u001b[0m\u001b[0;34m.\u001b[0m\u001b[0merror\u001b[0m\u001b[0;34m(\u001b[0m\u001b[0;34m'Connection workflow failed: %r'\u001b[0m\u001b[0;34m,\u001b[0m \u001b[0merror\u001b[0m\u001b[0;34m)\u001b[0m\u001b[0;34m\u001b[0m\u001b[0m\n\u001b[0;32m--> 450\u001b[0;31m                 \u001b[0;32mraise\u001b[0m \u001b[0mself\u001b[0m\u001b[0;34m.\u001b[0m\u001b[0m_reap_last_connection_workflow_error\u001b[0m\u001b[0;34m(\u001b[0m\u001b[0merror\u001b[0m\u001b[0;34m)\u001b[0m\u001b[0;34m\u001b[0m\u001b[0m\n\u001b[0m\u001b[1;32m    451\u001b[0m             \u001b[0;32melse\u001b[0m\u001b[0;34m:\u001b[0m\u001b[0;34m\u001b[0m\u001b[0m\n\u001b[1;32m    452\u001b[0m                 LOGGER.info('Connection workflow succeeded: %r',\n",
      "\u001b[0;31mAMQPConnectionError\u001b[0m: "
     ]
    }
   ],
   "source": [
    "import pika\n",
    "\n",
    "connection = pika.BlockingConnection(pika.ConnectionParameters(host=\"localhost\"))\n",
    "channel = connection.channel()\n",
    "\n",
    "channel.queue_declare(queue=\"task_queue\", durable=True)\n",
    "\n",
    "for msg in split:\n",
    "    channel.basic_publish(\n",
    "        exchange=\"\",\n",
    "        routing_key=\"task_queue\",\n",
    "        body=msg,\n",
    "        properties=pika.BasicProperties(delivery_mode=2),  # make message persistent\n",
    "    )\n",
    "    print(\" [x] Sent %r\" % msg)\n",
    "\n",
    "connection.close()"
   ]
  },
  {
   "cell_type": "code",
   "execution_count": null,
   "metadata": {},
   "outputs": [],
   "source": []
  }
 ],
 "metadata": {
  "kernelspec": {
   "display_name": "Python 3",
   "language": "python",
   "name": "python3"
  },
  "language_info": {
   "codemirror_mode": {
    "name": "ipython",
    "version": 3
   },
   "file_extension": ".py",
   "mimetype": "text/x-python",
   "name": "python",
   "nbconvert_exporter": "python",
   "pygments_lexer": "ipython3",
   "version": "3.6.3"
  }
 },
 "nbformat": 4,
 "nbformat_minor": 2
}
