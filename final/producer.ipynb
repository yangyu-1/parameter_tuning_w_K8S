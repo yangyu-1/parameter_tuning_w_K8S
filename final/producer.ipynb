{
 "cells": [
  {
   "cell_type": "code",
   "execution_count": 1,
   "metadata": {},
   "outputs": [],
   "source": [
    "from sklearn.datasets import fetch_california_housing\n",
    "import pandas as pd\n",
    "import socket\n",
    "from itertools import product\n",
    "import numpy as np\n",
    "import json\n"
   ]
  },
  {
   "cell_type": "code",
   "execution_count": 2,
   "metadata": {},
   "outputs": [],
   "source": [
    "X,y = fetch_california_housing(return_X_y=True)"
   ]
  },
  {
   "cell_type": "code",
   "execution_count": 3,
   "metadata": {
    "scrolled": true
   },
   "outputs": [
    {
     "data": {
      "text/plain": [
       "{'data': array([[   8.3252    ,   41.        ,    6.98412698, ...,    2.55555556,\n",
       "           37.88      , -122.23      ],\n",
       "        [   8.3014    ,   21.        ,    6.23813708, ...,    2.10984183,\n",
       "           37.86      , -122.22      ],\n",
       "        [   7.2574    ,   52.        ,    8.28813559, ...,    2.80225989,\n",
       "           37.85      , -122.24      ],\n",
       "        ...,\n",
       "        [   1.7       ,   17.        ,    5.20554273, ...,    2.3256351 ,\n",
       "           39.43      , -121.22      ],\n",
       "        [   1.8672    ,   18.        ,    5.32951289, ...,    2.12320917,\n",
       "           39.43      , -121.32      ],\n",
       "        [   2.3886    ,   16.        ,    5.25471698, ...,    2.61698113,\n",
       "           39.37      , -121.24      ]]),\n",
       " 'target': array([4.526, 3.585, 3.521, ..., 0.923, 0.847, 0.894]),\n",
       " 'feature_names': ['MedInc',\n",
       "  'HouseAge',\n",
       "  'AveRooms',\n",
       "  'AveBedrms',\n",
       "  'Population',\n",
       "  'AveOccup',\n",
       "  'Latitude',\n",
       "  'Longitude'],\n",
       " 'DESCR': '.. _california_housing_dataset:\\n\\nCalifornia Housing dataset\\n--------------------------\\n\\n**Data Set Characteristics:**\\n\\n    :Number of Instances: 20640\\n\\n    :Number of Attributes: 8 numeric, predictive attributes and the target\\n\\n    :Attribute Information:\\n        - MedInc        median income in block\\n        - HouseAge      median house age in block\\n        - AveRooms      average number of rooms\\n        - AveBedrms     average number of bedrooms\\n        - Population    block population\\n        - AveOccup      average house occupancy\\n        - Latitude      house block latitude\\n        - Longitude     house block longitude\\n\\n    :Missing Attribute Values: None\\n\\nThis dataset was obtained from the StatLib repository.\\nhttp://lib.stat.cmu.edu/datasets/\\n\\nThe target variable is the median house value for California districts.\\n\\nThis dataset was derived from the 1990 U.S. census, using one row per census\\nblock group. A block group is the smallest geographical unit for which the U.S.\\nCensus Bureau publishes sample data (a block group typically has a population\\nof 600 to 3,000 people).\\n\\nIt can be downloaded/loaded using the\\n:func:`sklearn.datasets.fetch_california_housing` function.\\n\\n.. topic:: References\\n\\n    - Pace, R. Kelley and Ronald Barry, Sparse Spatial Autoregressions,\\n      Statistics and Probability Letters, 33 (1997) 291-297\\n'}"
      ]
     },
     "execution_count": 3,
     "metadata": {},
     "output_type": "execute_result"
    }
   ],
   "source": [
    "fetch_california_housing()"
   ]
  },
  {
   "cell_type": "code",
   "execution_count": 4,
   "metadata": {},
   "outputs": [
    {
     "data": {
      "text/plain": [
       "array([4.526, 3.585, 3.521, ..., 0.923, 0.847, 0.894])"
      ]
     },
     "execution_count": 4,
     "metadata": {},
     "output_type": "execute_result"
    }
   ],
   "source": [
    "y"
   ]
  },
  {
   "cell_type": "code",
   "execution_count": 7,
   "metadata": {},
   "outputs": [
    {
     "name": "stdout",
     "output_type": "stream",
     "text": [
      "NumberOfParams = 15, ChunkSize = 8, NumberOfJobs = 2\n"
     ]
    }
   ],
   "source": [
    "params = [\n",
    "        {\n",
    "        'model':'xgboost',\n",
    "        'min_child_weight': [1, 5, 10],\n",
    "        'gamma': [0.5, 1, 1.5, 2, 5],\n",
    "#         'subsample': [0.6, 0.8, 1.0],\n",
    "#         'colsample_bytree': [0.6, 0.8, 1.0],\n",
    "#         'max_depth': range(1, 11, 1),\n",
    "#         'n_estimators':range(50, 400, 25),\n",
    "        },\n",
    "#         {'model':'lightgbm',\n",
    "#          'num_leaves': range(10, 110, 50),\n",
    "#          'min_child_samples':range(100, 1250, 250),\n",
    "#          'max_bin':range(3, 18, 3),\n",
    "#           'bagging_fraction': [0.6,0.8, 1,1.2],\n",
    "#           'max_depth': range(8, 17, 2),\n",
    "#           'min_split_gain': [0.001, 0.1],\n",
    "#           'min_child_weight': [30, 40,50]\n",
    "#           },\n",
    "#         {\n",
    "#           'model':'catboost',\n",
    "#           'depth':range(1, 4, 2),\n",
    "#           'learning_rate':[0.03,0.001,0.01], \n",
    "#           'iterations':[100],\n",
    "#           'l2_leaf_reg':[3,1,5,10,100],\n",
    "#           'border_count':[32,5,10,20,50,100,200],\n",
    "#           'ctr_border_count':[50,5,10,20,100,200],\n",
    "#           'thread_count':[1],\n",
    "#         },\n",
    "]\n",
    "\n",
    "\n",
    "\n",
    "def split_params(jobs_param,chunk):\n",
    "    li = []\n",
    "    for i,x in enumerate(jobs_param):\n",
    "        model = x.pop('model')\n",
    "        c_plane = [dict(zip(x, v)) for v in product(*x.values())]\n",
    "        for y in c_plane:\n",
    "            y.update( {\"model\":model})\n",
    "        li+=c_plane\n",
    "    split_list=np.array_split(li, chunk)\n",
    "    json_list = [json.dumps(i.tolist()) for i in split_list]\n",
    "    print(f\"NumberOfParams = {len(li)}, ChunkSize = {len(split_list[0])}, NumberOfJobs = {chunk}\")\n",
    "    return json_list\n",
    "\n",
    "split = split_params(params,2)\n"
   ]
  },
  {
   "cell_type": "code",
   "execution_count": 8,
   "metadata": {},
   "outputs": [
    {
     "data": {
      "text/plain": [
       "['[{\"min_child_weight\": 1, \"gamma\": 0.5, \"model\": \"xgboost\"}, {\"min_child_weight\": 1, \"gamma\": 1, \"model\": \"xgboost\"}, {\"min_child_weight\": 1, \"gamma\": 1.5, \"model\": \"xgboost\"}, {\"min_child_weight\": 1, \"gamma\": 2, \"model\": \"xgboost\"}, {\"min_child_weight\": 1, \"gamma\": 5, \"model\": \"xgboost\"}, {\"min_child_weight\": 5, \"gamma\": 0.5, \"model\": \"xgboost\"}, {\"min_child_weight\": 5, \"gamma\": 1, \"model\": \"xgboost\"}, {\"min_child_weight\": 5, \"gamma\": 1.5, \"model\": \"xgboost\"}]',\n",
       " '[{\"min_child_weight\": 5, \"gamma\": 2, \"model\": \"xgboost\"}, {\"min_child_weight\": 5, \"gamma\": 5, \"model\": \"xgboost\"}, {\"min_child_weight\": 10, \"gamma\": 0.5, \"model\": \"xgboost\"}, {\"min_child_weight\": 10, \"gamma\": 1, \"model\": \"xgboost\"}, {\"min_child_weight\": 10, \"gamma\": 1.5, \"model\": \"xgboost\"}, {\"min_child_weight\": 10, \"gamma\": 2, \"model\": \"xgboost\"}, {\"min_child_weight\": 10, \"gamma\": 5, \"model\": \"xgboost\"}]']"
      ]
     },
     "execution_count": 8,
     "metadata": {},
     "output_type": "execute_result"
    }
   ],
   "source": [
    "split"
   ]
  },
  {
   "cell_type": "code",
   "execution_count": 11,
   "metadata": {},
   "outputs": [
    {
     "name": "stdout",
     "output_type": "stream",
     "text": [
      " [x] Sent '[{\"min_child_weight\": 1, \"gamma\": 0.5, \"model\": \"xgboost\"}, {\"min_child_weight\": 1, \"gamma\": 1, \"model\": \"xgboost\"}, {\"min_child_weight\": 1, \"gamma\": 1.5, \"model\": \"xgboost\"}, {\"min_child_weight\": 1, \"gamma\": 2, \"model\": \"xgboost\"}, {\"min_child_weight\": 1, \"gamma\": 5, \"model\": \"xgboost\"}, {\"min_child_weight\": 5, \"gamma\": 0.5, \"model\": \"xgboost\"}, {\"min_child_weight\": 5, \"gamma\": 1, \"model\": \"xgboost\"}, {\"min_child_weight\": 5, \"gamma\": 1.5, \"model\": \"xgboost\"}]'\n",
      " [x] Sent '[{\"min_child_weight\": 5, \"gamma\": 2, \"model\": \"xgboost\"}, {\"min_child_weight\": 5, \"gamma\": 5, \"model\": \"xgboost\"}, {\"min_child_weight\": 10, \"gamma\": 0.5, \"model\": \"xgboost\"}, {\"min_child_weight\": 10, \"gamma\": 1, \"model\": \"xgboost\"}, {\"min_child_weight\": 10, \"gamma\": 1.5, \"model\": \"xgboost\"}, {\"min_child_weight\": 10, \"gamma\": 2, \"model\": \"xgboost\"}, {\"min_child_weight\": 10, \"gamma\": 5, \"model\": \"xgboost\"}]'\n"
     ]
    }
   ],
   "source": [
    "import pika\n",
    "\n",
    "connection = pika.BlockingConnection(pika.ConnectionParameters(host=\"localhost\"))\n",
    "channel = connection.channel()\n",
    "\n",
    "channel.queue_declare(queue=\"task_queue\", durable=True)\n",
    "\n",
    "for msg in split:\n",
    "    channel.basic_publish(\n",
    "        exchange=\"\",\n",
    "        routing_key=\"task_queue\",\n",
    "        body=msg,\n",
    "        properties=pika.BasicProperties(delivery_mode=2),  # make message persistent\n",
    "    )\n",
    "    print(\" [x] Sent %r\" % msg)\n",
    "\n",
    "connection.close()"
   ]
  },
  {
   "cell_type": "code",
   "execution_count": null,
   "metadata": {},
   "outputs": [],
   "source": []
  }
 ],
 "metadata": {
  "kernelspec": {
   "display_name": "Python 3",
   "language": "python",
   "name": "python3"
  },
  "language_info": {
   "codemirror_mode": {
    "name": "ipython",
    "version": 3
   },
   "file_extension": ".py",
   "mimetype": "text/x-python",
   "name": "python",
   "nbconvert_exporter": "python",
   "pygments_lexer": "ipython3",
   "version": "3.6.3"
  }
 },
 "nbformat": 4,
 "nbformat_minor": 2
}
