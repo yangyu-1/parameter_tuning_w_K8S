{
 "cells": [
  {
   "cell_type": "code",
   "execution_count": 5,
   "metadata": {},
   "outputs": [],
   "source": [
    "from itertools import product\n",
    "import numpy as np\n",
    "import json\n",
    "from typing import List"
   ]
  },
  {
   "cell_type": "code",
   "execution_count": 6,
   "metadata": {},
   "outputs": [
    {
     "name": "stdout",
     "output_type": "stream",
     "text": [
      "\n",
      "            Total Number of Params = 26160\n",
      "            Params per Job         = 6 \n",
      "            Number of Jobs         = 5000\n",
      "            \n"
     ]
    }
   ],
   "source": [
    "params = [\n",
    "        {\n",
    "        'model':'xgboost',\n",
    "        'min_child_weight': [1, 5, 10],\n",
    "        'gamma': [0.5, 1, 1.5, 2, 5],\n",
    "        'subsample': [0.6, 0.8, 1.0],\n",
    "        'colsample_bytree': [0.6, 0.8, 1.0],\n",
    "        'max_depth': range(1, 11, 1),\n",
    "        'n_estimators':range(50, 400, 25),\n",
    "        },\n",
    "        {'model':'lightgbm',\n",
    "         'num_leaves': range(10, 110, 50),\n",
    "         'min_child_samples':range(100, 1250, 250),\n",
    "         'max_bin':range(3, 18, 3),\n",
    "          'bagging_fraction': [0.6,0.8, 1,1.2],\n",
    "          'max_depth': range(8, 17, 2),\n",
    "          'min_split_gain': [0.001, 0.1],\n",
    "          'min_child_weight': [30, 40,50]\n",
    "          },\n",
    "        {\n",
    "          'model':'catboost',\n",
    "          'depth':range(1, 4, 2),\n",
    "          'learning_rate':[0.03,0.001,0.01], \n",
    "          'iterations':[100],\n",
    "          'l2_leaf_reg':[3,1,5,10,100],\n",
    "          'border_count':[32,5,10,20,50,100,200],\n",
    "          'ctr_border_count':[50,5,10,20,100,200],\n",
    "        },\n",
    "]\n",
    "\n",
    "\n",
    "\n",
    "def split_params(jobs_param:List,n:int)->List:\n",
    "    \"\"\"Splits a list of parameter grids into n jobs. \n",
    "        Using cartesian plane.\n",
    "\n",
    "    Args:\n",
    "        jobs_param: list parameter grids.\n",
    "        n: Desired number of jobs.\n",
    "\n",
    "    Returns:\n",
    "        Return a list of jsonified params.\n",
    "    \"\"\"\n",
    "    li = []\n",
    "    for i,x in enumerate(jobs_param):\n",
    "        model = x.pop('model')\n",
    "        c_plane = [dict(zip(x, v)) for v in product(*x.values())]\n",
    "        for y in c_plane:\n",
    "            y.update( {\"model\":model})\n",
    "        li+=c_plane\n",
    "    split_list=np.array_split(li, n)\n",
    "    json_list = [json.dumps(i.tolist()) for i in split_list]\n",
    "    print(f'''\n",
    "            Total Number of Params = {len(li)}\n",
    "            Params per Job         = {len(split_list[0])} \n",
    "            Number of Jobs         = {n}\n",
    "            ''')\n",
    "    return json_list\n",
    "\n",
    "split = split_params(params,5000)\n"
   ]
  },
  {
   "cell_type": "code",
   "execution_count": 7,
   "metadata": {},
   "outputs": [
    {
     "data": {
      "text/plain": [
       "'[{\"min_child_weight\": 1, \"gamma\": 0.5, \"subsample\": 0.6, \"colsample_bytree\": 0.6, \"max_depth\": 1, \"n_estimators\": 50, \"model\": \"xgboost\"}, {\"min_child_weight\": 1, \"gamma\": 0.5, \"subsample\": 0.6, \"colsample_bytree\": 0.6, \"max_depth\": 1, \"n_estimators\": 75, \"model\": \"xgboost\"}, {\"min_child_weight\": 1, \"gamma\": 0.5, \"subsample\": 0.6, \"colsample_bytree\": 0.6, \"max_depth\": 1, \"n_estimators\": 100, \"model\": \"xgboost\"}, {\"min_child_weight\": 1, \"gamma\": 0.5, \"subsample\": 0.6, \"colsample_bytree\": 0.6, \"max_depth\": 1, \"n_estimators\": 125, \"model\": \"xgboost\"}, {\"min_child_weight\": 1, \"gamma\": 0.5, \"subsample\": 0.6, \"colsample_bytree\": 0.6, \"max_depth\": 1, \"n_estimators\": 150, \"model\": \"xgboost\"}, {\"min_child_weight\": 1, \"gamma\": 0.5, \"subsample\": 0.6, \"colsample_bytree\": 0.6, \"max_depth\": 1, \"n_estimators\": 175, \"model\": \"xgboost\"}]'"
      ]
     },
     "execution_count": 7,
     "metadata": {},
     "output_type": "execute_result"
    }
   ],
   "source": [
    "# This is the first job to be delivered to our workers.\n",
    "# You can see that there are 6 different model parameters inside this job\n",
    "split[0]"
   ]
  },
  {
   "cell_type": "code",
   "execution_count": 8,
   "metadata": {},
   "outputs": [
    {
     "ename": "AMQPConnectionError",
     "evalue": "",
     "output_type": "error",
     "traceback": [
      "\u001b[0;31m---------------------------------------------------------------------------\u001b[0m",
      "\u001b[0;31mAMQPConnectionError\u001b[0m                       Traceback (most recent call last)",
      "\u001b[0;32m<ipython-input-8-6677b7b727ab>\u001b[0m in \u001b[0;36m<module>\u001b[0;34m\u001b[0m\n\u001b[1;32m      2\u001b[0m \u001b[0;31m# Because we've used the port-forwarding mechanism, we can simply connect via localhost. Pika defaults to port 5672\u001b[0m\u001b[0;34m\u001b[0m\u001b[0;34m\u001b[0m\u001b[0m\n\u001b[1;32m      3\u001b[0m \u001b[0;32mimport\u001b[0m \u001b[0mpika\u001b[0m\u001b[0;34m\u001b[0m\u001b[0m\n\u001b[0;32m----> 4\u001b[0;31m \u001b[0mconnection\u001b[0m \u001b[0;34m=\u001b[0m \u001b[0mpika\u001b[0m\u001b[0;34m.\u001b[0m\u001b[0mBlockingConnection\u001b[0m\u001b[0;34m(\u001b[0m\u001b[0mpika\u001b[0m\u001b[0;34m.\u001b[0m\u001b[0mConnectionParameters\u001b[0m\u001b[0;34m(\u001b[0m\u001b[0mhost\u001b[0m\u001b[0;34m=\u001b[0m\u001b[0;34m\"localhost\"\u001b[0m\u001b[0;34m)\u001b[0m\u001b[0;34m)\u001b[0m\u001b[0;34m\u001b[0m\u001b[0m\n\u001b[0m\u001b[1;32m      5\u001b[0m \u001b[0mchannel\u001b[0m \u001b[0;34m=\u001b[0m \u001b[0mconnection\u001b[0m\u001b[0;34m.\u001b[0m\u001b[0mchannel\u001b[0m\u001b[0;34m(\u001b[0m\u001b[0;34m)\u001b[0m\u001b[0;34m\u001b[0m\u001b[0m\n\u001b[1;32m      6\u001b[0m \u001b[0;34m\u001b[0m\u001b[0m\n",
      "\u001b[0;32m/usr/local/Cellar/python3/3.6.3/Frameworks/Python.framework/Versions/3.6/lib/python3.6/site-packages/pika/adapters/blocking_connection.py\u001b[0m in \u001b[0;36m__init__\u001b[0;34m(self, parameters, _impl_class)\u001b[0m\n\u001b[1;32m    357\u001b[0m         \u001b[0;31m# Perform connection workflow\u001b[0m\u001b[0;34m\u001b[0m\u001b[0;34m\u001b[0m\u001b[0m\n\u001b[1;32m    358\u001b[0m         \u001b[0mself\u001b[0m\u001b[0;34m.\u001b[0m\u001b[0m_impl\u001b[0m \u001b[0;34m=\u001b[0m \u001b[0;32mNone\u001b[0m  \u001b[0;31m# so that attribute is created in case below raises\u001b[0m\u001b[0;34m\u001b[0m\u001b[0m\n\u001b[0;32m--> 359\u001b[0;31m         \u001b[0mself\u001b[0m\u001b[0;34m.\u001b[0m\u001b[0m_impl\u001b[0m \u001b[0;34m=\u001b[0m \u001b[0mself\u001b[0m\u001b[0;34m.\u001b[0m\u001b[0m_create_connection\u001b[0m\u001b[0;34m(\u001b[0m\u001b[0mparameters\u001b[0m\u001b[0;34m,\u001b[0m \u001b[0m_impl_class\u001b[0m\u001b[0;34m)\u001b[0m\u001b[0;34m\u001b[0m\u001b[0m\n\u001b[0m\u001b[1;32m    360\u001b[0m         \u001b[0mself\u001b[0m\u001b[0;34m.\u001b[0m\u001b[0m_impl\u001b[0m\u001b[0;34m.\u001b[0m\u001b[0madd_on_close_callback\u001b[0m\u001b[0;34m(\u001b[0m\u001b[0mself\u001b[0m\u001b[0;34m.\u001b[0m\u001b[0m_closed_result\u001b[0m\u001b[0;34m.\u001b[0m\u001b[0mset_value_once\u001b[0m\u001b[0;34m)\u001b[0m\u001b[0;34m\u001b[0m\u001b[0m\n\u001b[1;32m    361\u001b[0m \u001b[0;34m\u001b[0m\u001b[0m\n",
      "\u001b[0;32m/usr/local/Cellar/python3/3.6.3/Frameworks/Python.framework/Versions/3.6/lib/python3.6/site-packages/pika/adapters/blocking_connection.py\u001b[0m in \u001b[0;36m_create_connection\u001b[0;34m(self, configs, impl_class)\u001b[0m\n\u001b[1;32m    448\u001b[0m                 \u001b[0merror\u001b[0m \u001b[0;34m=\u001b[0m \u001b[0mon_cw_done_result\u001b[0m\u001b[0;34m.\u001b[0m\u001b[0mvalue\u001b[0m\u001b[0;34m.\u001b[0m\u001b[0mresult\u001b[0m\u001b[0;34m\u001b[0m\u001b[0m\n\u001b[1;32m    449\u001b[0m                 \u001b[0mLOGGER\u001b[0m\u001b[0;34m.\u001b[0m\u001b[0merror\u001b[0m\u001b[0;34m(\u001b[0m\u001b[0;34m'Connection workflow failed: %r'\u001b[0m\u001b[0;34m,\u001b[0m \u001b[0merror\u001b[0m\u001b[0;34m)\u001b[0m\u001b[0;34m\u001b[0m\u001b[0m\n\u001b[0;32m--> 450\u001b[0;31m                 \u001b[0;32mraise\u001b[0m \u001b[0mself\u001b[0m\u001b[0;34m.\u001b[0m\u001b[0m_reap_last_connection_workflow_error\u001b[0m\u001b[0;34m(\u001b[0m\u001b[0merror\u001b[0m\u001b[0;34m)\u001b[0m\u001b[0;34m\u001b[0m\u001b[0m\n\u001b[0m\u001b[1;32m    451\u001b[0m             \u001b[0;32melse\u001b[0m\u001b[0;34m:\u001b[0m\u001b[0;34m\u001b[0m\u001b[0m\n\u001b[1;32m    452\u001b[0m                 LOGGER.info('Connection workflow succeeded: %r',\n",
      "\u001b[0;31mAMQPConnectionError\u001b[0m: "
     ]
    }
   ],
   "source": [
    "# We're using a package call Pika to communicate with our rabbitMQ deployment\n",
    "# Because we've used the port-forwarding mechanism, we can simply connect via localhost. Pika defaults to port 5672\n",
    "import pika\n",
    "connection = pika.BlockingConnection(pika.ConnectionParameters(host=\"localhost\"))\n",
    "channel = connection.channel()\n",
    "\n",
    "channel.queue_declare(queue=\"task_queue\", durable=True)\n",
    "\n",
    "for msg in split:\n",
    "    channel.basic_publish(\n",
    "        exchange=\"\",\n",
    "        routing_key=\"task_queue\",\n",
    "        body=msg,\n",
    "        properties=pika.BasicProperties(delivery_mode=2),  # make message persistent\n",
    "    )\n",
    "    print(f\"Sent {msg}\")\n",
    "\n",
    "connection.close()"
   ]
  },
  {
   "cell_type": "code",
   "execution_count": null,
   "metadata": {},
   "outputs": [],
   "source": []
  }
 ],
 "metadata": {
  "kernelspec": {
   "display_name": "Python 3",
   "language": "python",
   "name": "python3"
  },
  "language_info": {
   "codemirror_mode": {
    "name": "ipython",
    "version": 3
   },
   "file_extension": ".py",
   "mimetype": "text/x-python",
   "name": "python",
   "nbconvert_exporter": "python",
   "pygments_lexer": "ipython3",
   "version": "3.6.3"
  }
 },
 "nbformat": 4,
 "nbformat_minor": 2
}
